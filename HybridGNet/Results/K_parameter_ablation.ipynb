{
 "cells": [
  {
   "cell_type": "code",
   "execution_count": 1,
   "id": "7257c989",
   "metadata": {},
   "outputs": [],
   "source": [
    "%load_ext autoreload\n",
    "%autoreload 2\n",
    "\n",
    "train_path = \"../Datasets/JSRT/Train\"\n",
    "test_path = \"../Datasets/JSRT/Test\"\n",
    "val_path = \"../Datasets/JSRT/Val\" "
   ]
  },
  {
   "cell_type": "code",
   "execution_count": 2,
   "id": "026c39fe",
   "metadata": {},
   "outputs": [],
   "source": [
    "import sys \n",
    "sys.path.append('..')"
   ]
  },
  {
   "cell_type": "code",
   "execution_count": 3,
   "id": "02278c69",
   "metadata": {},
   "outputs": [],
   "source": [
    "from models.hybrid import Hybrid as Hybrid\n",
    "from models.hybridSkip import Hybrid as Skip\n",
    "from models.hybridDoubleSkip import Hybrid as DoubleSkip\n",
    "\n",
    "import os \n",
    "\n",
    "import torch\n",
    "from torchvision import transforms\n",
    "import numpy as np\n",
    "\n",
    "from utils.dataLoader import LandmarksDataset, ToTensor, Rescale\n",
    "from sklearn.metrics import mean_squared_error\n",
    "import scipy.sparse as sp\n",
    "from utils.utils import scipy_to_torch_sparse, genMatrixesLH"
   ]
  },
  {
   "cell_type": "code",
   "execution_count": 4,
   "id": "7084379a",
   "metadata": {},
   "outputs": [],
   "source": [
    "img_path = os.path.join(val_path, 'Images')\n",
    "label_path = os.path.join(val_path, 'landmarks')\n",
    "test_dataset = LandmarksDataset(img_path=img_path,\n",
    "                                 label_path=label_path,\n",
    "                                 transform = transforms.Compose([\n",
    "                                             Rescale(1024),\n",
    "                                             ToTensor()])\n",
    "                                 )\n",
    "\n",
    "device = 'cuda:0'"
   ]
  },
  {
   "cell_type": "code",
   "execution_count": 5,
   "id": "fb6ec1da",
   "metadata": {},
   "outputs": [],
   "source": [
    "A, AD, D, U = genMatrixesLH()\n",
    "\n",
    "A = sp.csc_matrix(A).tocoo()\n",
    "AD = sp.csc_matrix(AD).tocoo()\n",
    "D = sp.csc_matrix(D).tocoo()\n",
    "U = sp.csc_matrix(U).tocoo()\n",
    "\n",
    "D_ = [D.copy()]\n",
    "U_ = [U.copy()]\n",
    "A_ = [A.copy(), A.copy(), A.copy(), AD.copy(), AD.copy(), AD.copy()]\n",
    "\n",
    "config = {}\n",
    "config['n_nodes'] = [120, 120, 120, 60, 60, 60]\n",
    "\n",
    "A_t, D_t, U_t = ([scipy_to_torch_sparse(x).to(device) for x in X] for X in (A_, D_, U_))\n",
    "\n",
    "config['latents'] = 64\n",
    "config['inputsize'] = 1024\n",
    "\n",
    "f = 32\n",
    "config['filters'] = [2, f, f, f, f//2, f//2, f//2]\n",
    "config['skip_features'] = f\n",
    "\n",
    "config['window'] = (3,3)\n",
    "\n",
    "config['l1'] = 5\n",
    "config['l2'] = 4"
   ]
  },
  {
   "cell_type": "code",
   "execution_count": 6,
   "id": "d530137d-198a-48b4-a340-0294fcb75107",
   "metadata": {},
   "outputs": [
    {
     "name": "stdout",
     "output_type": "stream",
     "text": [
      "Models loaded\n"
     ]
    }
   ],
   "source": [
    "config['K'] = 3\n",
    "\n",
    "hybrid3 = Hybrid(config, D_t, U_t, A_t).to(device)\n",
    "hybrid3.load_state_dict(torch.load(\"../weights/K_ablation/hybrid_k_3/bestMSE.pt\"))\n",
    "hybrid3.eval()\n",
    "\n",
    "config['K'] = 5\n",
    "\n",
    "hybrid5 = Hybrid(config, D_t, U_t, A_t).to(device)\n",
    "hybrid5.load_state_dict(torch.load(\"../weights/K_ablation/hybrid_k_5/bestMSE.pt\"))\n",
    "hybrid5.eval()\n",
    "\n",
    "config['K'] = 6\n",
    "\n",
    "hybrid6 = Hybrid(config, D_t, U_t, A_t).to(device)\n",
    "hybrid6.load_state_dict(torch.load(\"../weights/K_ablation/hybrid_k_6/bestMSE.pt\"))\n",
    "hybrid6.eval()\n",
    "\n",
    "config['K'] = 7\n",
    "\n",
    "hybrid7 = Hybrid(config, D_t, U_t, A_t).to(device)\n",
    "hybrid7.load_state_dict(torch.load(\"../weights/K_ablation/hybrid_k_7/bestMSE.pt\"))\n",
    "hybrid7.eval()\n",
    "\n",
    "config['K'] = 9\n",
    "\n",
    "hybrid9 = Hybrid(config, D_t, U_t, A_t).to(device)\n",
    "hybrid9.load_state_dict(torch.load(\"../weights/K_ablation/hybrid_k_9/bestMSE.pt\"))\n",
    "hybrid9.eval()\n",
    "print('Models loaded')"
   ]
  },
  {
   "cell_type": "code",
   "execution_count": 7,
   "id": "4d2830ea",
   "metadata": {},
   "outputs": [
    {
     "name": "stdout",
     "output_type": "stream",
     "text": [
      " 21 of 21"
     ]
    }
   ],
   "source": [
    "import pandas as pd\n",
    "from matplotlib import pyplot as plt\n",
    "import seaborn as sns\n",
    "\n",
    "model_list = [hybrid3,hybrid5,hybrid6,hybrid7,hybrid9]\n",
    "model_names = ['K:3','K:5','K:6','K:7','K:9']\n",
    "\n",
    "results1 = pd.DataFrame()\n",
    "\n",
    "for i in range(0, len(test_dataset.images)):   \n",
    "    print('\\r',i+1,'of', len(test_dataset.images),end='')\n",
    "    with torch.no_grad():\n",
    "        sample = test_dataset[i]\n",
    "\n",
    "        data, target = sample['image'], sample['landmarks']\n",
    "        data = torch.unsqueeze(data, 0).to(device)\n",
    "        target =  target[:120,:].reshape(-1).numpy()\n",
    "        \n",
    "        for j in range(0, len(model_list)):\n",
    "            output = model_list[j](data)\n",
    "            if len(output) > 1:\n",
    "                output = output[0]\n",
    "            output = output.cpu().numpy().reshape(-1)\n",
    "            \n",
    "            error = mean_squared_error(target * 1024, output * 1024)\n",
    "            \n",
    "            aux = pd.DataFrame([[i, error, model_names[j]]], columns=['i','MSE', 'Model'])\n",
    "            results1 = results1.append(aux, ignore_index = True)"
   ]
  },
  {
   "cell_type": "code",
   "execution_count": 8,
   "id": "181e81ca",
   "metadata": {},
   "outputs": [
    {
     "name": "stdout",
     "output_type": "stream",
     "text": [
      "MSE\n",
      "K:3 \t385.563 +- 374.874\n",
      "K:5 \t293.351 +- 239.174\n",
      "K:6 \t283.996 +- 210.335\n",
      "K:7 \t273.051 +- 214.095\n",
      "K:9 \t370.033 +- 302.382\n",
      "\n"
     ]
    },
    {
     "data": {
      "image/png": "[encoded data removed]",
      "text/plain": [
       "<Figure size 504x360 with 1 Axes>"
      ]
     },
     "metadata": {
      "needs_background": "light"
     },
     "output_type": "display_data"
    }
   ],
   "source": [
    "plt.figure(figsize = (7,5))\n",
    "plt.tight_layout()\n",
    "sns.boxplot(x = 'Model', y = 'MSE', data = results1, showmeans = True)\n",
    "plt.xticks(rotation=25, ha=\"right\" )\n",
    "plt.ylabel('MSE')\n",
    "plt.title('K-hop parameter ablation study - MSE (Validation set)')\n",
    "plt.xlabel(None)\n",
    "plt.savefig('figs/k_parameter.png', dpi = 200)\n",
    "print('MSE')\n",
    "for model in model_names:\n",
    "    print(model, '\\t' '%.3f'%np.mean(results1['MSE'][results1['Model'] == model]), '+- %.3f' % np.std(results1['MSE'][results1['Model'] == model]))\n",
    "\n",
    "print('')"
   ]
  },
  {
   "cell_type": "code",
   "execution_count": 9,
   "id": "2a37ddb8",
   "metadata": {},
   "outputs": [],
   "source": [
    "from medpy.metric import dc, hd, assd, jc, asd\n",
    "from utils.fun import reverseVector, drawBinary\n",
    "\n",
    "def evalImageMetrics(blank, output, target_lungs, target_heart):\n",
    "    p1, p2, h, c1, c2 = reverseVector(output)\n",
    "    \n",
    "    ptest = drawBinary(blank.copy(), p1)\n",
    "    ptest = drawBinary(ptest, p2)\n",
    "    \n",
    "    hdp = hd(ptest, target_lungs, voxelspacing = 0.35)\n",
    "    dcp = dc(ptest, target_lungs)\n",
    "\n",
    "    p1, p2, h, c1, c2 = reverseVector(output)\n",
    "    \n",
    "    ptest = drawBinary(blank.copy(), h)\n",
    "    \n",
    "    hdc = hd(ptest, target_heart, voxelspacing = 0.35)\n",
    "    dcc = dc(ptest, target_heart)\n",
    "    \n",
    "    return [dcp, dcc, hdp, hdc]\n",
    "\n",
    "def evalImageMetricsUNet(output, target_lungs, target_heart):\n",
    "    dcp = dc(output == 1, target_lungs)\n",
    "    dcc = dc(output == 2, target_heart)\n",
    "    \n",
    "    hdp = hd(output == 1, target_lungs, voxelspacing = 0.35)\n",
    "    hdc = hd(output == 2, target_heart, voxelspacing = 0.35)\n",
    "        \n",
    "    return [dcp, dcc, hdp, hdc]"
   ]
  },
  {
   "cell_type": "code",
   "execution_count": 10,
   "id": "d4dadac2",
   "metadata": {},
   "outputs": [
    {
     "name": "stdout",
     "output_type": "stream",
     "text": [
      " 21 of 21"
     ]
    }
   ],
   "source": [
    "blank = np.zeros([1024, 1024])\n",
    "\n",
    "results = pd.DataFrame()\n",
    "\n",
    "for i in range(0, len(test_dataset.images)):\n",
    "    print('\\r',i+1,'of', len(test_dataset.images),end='')\n",
    "    with torch.no_grad():\n",
    "        sample = test_dataset[i]\n",
    "\n",
    "        data, target = sample['image'], sample['landmarks']\n",
    "        data = torch.unsqueeze(data, 0).to(device)\n",
    "        target =  target.reshape(-1).numpy()\n",
    "        \n",
    "        p1, p2, h, c1, c2 = reverseVector(target * 1024)\n",
    "       \n",
    "        t_lungs = drawBinary(blank.copy(), p1)\n",
    "        t_lungs = drawBinary(t_lungs, p2)\n",
    "        t_heart = drawBinary(blank.copy(), h)\n",
    "        \n",
    "        for j in range(0, len(model_list)):\n",
    "            output = model_list[j](data)\n",
    "            if len(output) > 1:\n",
    "                output = output[0]\n",
    "                \n",
    "            output = output.cpu().numpy().reshape(-1) \n",
    "            \n",
    "            metrics = evalImageMetrics(blank, output * 1024, t_lungs, t_heart)\n",
    "             \n",
    "            aux = pd.DataFrame([[i, model_names[j]] + metrics], columns=['i','Model','Dice Lungs','Dice Heart','HD Lungs','HD Heart'])\n",
    "            results = results.append(aux, ignore_index = True)"
   ]
  },
  {
   "cell_type": "code",
   "execution_count": 11,
   "id": "f1eaaa1b",
   "metadata": {},
   "outputs": [
    {
     "data": {
      "image/png": "[encoded data removed]",
      "text/plain": [
       "<Figure size 720x360 with 2 Axes>"
      ]
     },
     "metadata": {
      "needs_background": "light"
     },
     "output_type": "display_data"
    },
    {
     "name": "stdout",
     "output_type": "stream",
     "text": [
      "Dice\n",
      "K:3 0.938 +- 0.025\n",
      "K:5 0.949 +- 0.016\n",
      "K:6 0.950 +- 0.013\n",
      "K:7 0.950 +- 0.014\n",
      "K:9 0.941 +- 0.017\n",
      "\n",
      "Hausdorff\n",
      "K:3 15.309 +- 9.744\n",
      "K:5 14.925 +- 9.000\n",
      "K:6 15.506 +- 7.827\n",
      "K:7 14.860 +- 9.123\n",
      "K:9 16.702 +- 8.485\n",
      "\n"
     ]
    }
   ],
   "source": [
    "plt.figure(figsize = (10,5))\n",
    "plt.tight_layout()\n",
    "ax = plt.subplot(1,2,1)\n",
    "sns.boxplot(x = 'Model', y = 'Dice Lungs', data = results, showmeans = True)\n",
    "plt.xticks(rotation=25, ha=\"right\" )\n",
    "plt.ylabel('Dice Lungs')\n",
    "plt.title('Dice Lungs')\n",
    "plt.xlabel(None)\n",
    "\n",
    "ax = plt.subplot(1,2,2)\n",
    "sns.boxplot(x = 'Model', y = 'HD Lungs', data = results, showmeans = True)\n",
    "plt.xticks(rotation=25, ha=\"right\" )\n",
    "plt.ylabel('HD (mm)')\n",
    "plt.title('Hausdorff Distance')\n",
    "plt.xlabel(None)\n",
    "\n",
    "plt.tight_layout()\n",
    "plt.show()\n",
    "\n",
    "print('Dice')\n",
    "for model in model_names:\n",
    "    print(model, '%.3f'%np.mean(results['Dice Lungs'][results['Model'] == model]), '+- %.3f' % np.std(results['Dice Lungs'][results['Model'] == model]))\n",
    "\n",
    "print('')\n",
    "\n",
    "print('Hausdorff')\n",
    "for model in model_names:\n",
    "    print(model, '%.3f'%np.mean(results['HD Lungs'][results['Model'] == model]), '+- %.3f' % np.std(results['HD Lungs'][results['Model'] == model]))\n",
    "\n",
    "print('')"
   ]
  },
  {
   "cell_type": "code",
   "execution_count": 12,
   "id": "a678dd3d",
   "metadata": {},
   "outputs": [
    {
     "data": {
      "image/png": "[encoded data removed]",
      "text/plain": [
       "<Figure size 720x360 with 2 Axes>"
      ]
     },
     "metadata": {
      "needs_background": "light"
     },
     "output_type": "display_data"
    },
    {
     "name": "stdout",
     "output_type": "stream",
     "text": [
      "Dice\n",
      "K:3 0.915 +- 0.043\n",
      "K:5 0.930 +- 0.027\n",
      "K:6 0.931 +- 0.032\n",
      "K:7 0.932 +- 0.031\n",
      "K:9 0.919 +- 0.042\n",
      "\n",
      "Hausdorff\n",
      "K:3 14.544 +- 6.685\n",
      "K:5 11.740 +- 4.459\n",
      "K:6 12.087 +- 5.341\n",
      "K:7 11.112 +- 5.217\n",
      "K:9 12.957 +- 6.458\n",
      "\n"
     ]
    }
   ],
   "source": [
    "plt.figure(figsize = (10,5))\n",
    "plt.tight_layout()\n",
    "ax = plt.subplot(1,2,1)\n",
    "sns.boxplot(x = 'Model', y = 'Dice Heart', data = results, showmeans = True)\n",
    "plt.xticks(rotation=25, ha=\"right\" )\n",
    "plt.ylabel('Dice Heart')\n",
    "plt.title('Dice Heart')\n",
    "plt.xlabel(None)\n",
    "\n",
    "ax = plt.subplot(1,2,2)\n",
    "sns.boxplot(x = 'Model', y = 'HD Heart', data = results, showmeans = True)\n",
    "plt.xticks(rotation=25, ha=\"right\" )\n",
    "plt.ylabel('HD (mm)')\n",
    "plt.title('Hausdorff Distance')\n",
    "plt.xlabel(None)\n",
    "\n",
    "plt.tight_layout()\n",
    "plt.show()\n",
    "\n",
    "print('Dice')\n",
    "for model in model_names:\n",
    "    print(model, '%.3f'%np.mean(results['Dice Heart'][results['Model'] == model]), '+- %.3f' % np.std(results['Dice Heart'][results['Model'] == model]))\n",
    "\n",
    "print('')\n",
    "\n",
    "print('Hausdorff')\n",
    "for model in model_names:\n",
    "    print(model, '%.3f'%np.mean(results['HD Heart'][results['Model'] == model]), '+- %.3f' % np.std(results['HD Heart'][results['Model'] == model]))\n",
    "\n",
    "print('')"
   ]
  },
  {
   "cell_type": "code",
   "execution_count": null,
   "id": "447f9c9e-7b82-4e88-ae71-d48f8e9b64c5",
   "metadata": {},
   "outputs": [],
   "source": []
  }
 ],
 "metadata": {
  "kernelspec": {
   "display_name": "Torch",
   "language": "python",
   "name": "torch"
  },
  "language_info": {
   "codemirror_mode": {
    "name": "ipython",
    "version": 3
   },
   "file_extension": ".py",
   "mimetype": "text/x-python",
   "name": "python",
   "nbconvert_exporter": "python",
   "pygments_lexer": "ipython3",
   "version": "3.9.7"
  }
 },
 "nbformat": 4,
 "nbformat_minor": 5
}
